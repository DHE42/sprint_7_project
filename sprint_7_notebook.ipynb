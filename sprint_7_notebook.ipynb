{
 "cells": [
  {
   "cell_type": "markdown",
   "id": "6a58b75a",
   "metadata": {},
   "source": [
    "Project instructions\n",
    "\n",
    "1) Open and look through the data file. Path to the file:datasets/users_behavior.csv Download dataset\n",
    "2) Split the source data into a training set, a validation set, and a test set.\n",
    "3) Investigate the quality of different models by changing hyperparameters. Briefly describe the findings of the study.\n",
    "4) Check the quality of the model using the test set.\n",
    "5) Additional task: sanity check the model. This data is more complex than what you’re used to working with, so it's not an easy task. We'll take a closer look at it later.\n",
    "\n",
    "Here’s what the reviewers will look at when reviewing your project:\n",
    "\n",
    "1) How did you look into data after downloading?\n",
    "2) Have you correctly split the data into train, validation, and test sets?\n",
    "3) How have you chosen the sets' sizes?\n",
    "4) Did you evaluate the quality of the models correctly?\n",
    "5) What models and hyperparameters did you use?\n",
    "6) What are your findings?\n",
    "7) Did you test the models correctly?\n",
    "8) What is your accuracy score?\n",
    "9) Have you stuck to the project structure and kept the code neat?"
   ]
  },
  {
   "cell_type": "code",
   "execution_count": 7,
   "id": "a4a09d3c",
   "metadata": {},
   "outputs": [
    {
     "name": "stdout",
     "output_type": "stream",
     "text": [
      "   calls  minutes  messages   mb_used  is_ultra\n",
      "0   40.0   311.90      83.0  19915.42         0\n",
      "1   85.0   516.75      56.0  22696.96         0\n",
      "2   77.0   467.66      86.0  21060.45         0\n",
      "3  106.0   745.53      81.0   8437.39         1\n",
      "4   66.0   418.74       1.0  14502.75         0\n",
      "\n",
      "<class 'pandas.core.frame.DataFrame'>\n",
      "RangeIndex: 3214 entries, 0 to 3213\n",
      "Data columns (total 5 columns):\n",
      " #   Column    Non-Null Count  Dtype  \n",
      "---  ------    --------------  -----  \n",
      " 0   calls     3214 non-null   float64\n",
      " 1   minutes   3214 non-null   float64\n",
      " 2   messages  3214 non-null   float64\n",
      " 3   mb_used   3214 non-null   float64\n",
      " 4   is_ultra  3214 non-null   int64  \n",
      "dtypes: float64(4), int64(1)\n",
      "memory usage: 125.7 KB\n",
      "None\n",
      "\n",
      "             calls      minutes     messages       mb_used     is_ultra\n",
      "count  3214.000000  3214.000000  3214.000000   3214.000000  3214.000000\n",
      "mean     63.038892   438.208787    38.281269  17207.673836     0.306472\n",
      "std      33.236368   234.569872    36.148326   7570.968246     0.461100\n",
      "min       0.000000     0.000000     0.000000      0.000000     0.000000\n",
      "25%      40.000000   274.575000     9.000000  12491.902500     0.000000\n",
      "50%      62.000000   430.600000    30.000000  16943.235000     0.000000\n",
      "75%      82.000000   571.927500    57.000000  21424.700000     1.000000\n",
      "max     244.000000  1632.060000   224.000000  49745.730000     1.000000\n",
      "\n"
     ]
    }
   ],
   "source": [
    "import pandas as pd\n",
    "from sklearn.linear_model import LinearRegression\n",
    "from sklearn.tree import DecisionTreeClassifier\n",
    "from sklearn.ensemble import RandomForestClassifier\n",
    "from sklearn.linear_model import LogisticRegression\n",
    "from sklearn.model_selection import train_test_split\n",
    "from sklearn.metrics import mean_squared_error\n",
    "from sklearn.metrics import accuracy_score\n",
    "\n",
    "url = 'https://raw.githubusercontent.com/DHE42/sprint_7_project/refs/heads/main/users_behavior.csv'\n",
    "\n",
    "df = pd.read_csv(url)\n",
    "print(df.head())\n",
    "print()\n",
    "\n",
    "print(df.info())\n",
    "print()\n",
    "\n",
    "print(df.describe())\n",
    "print()\n"
   ]
  },
  {
   "cell_type": "code",
   "execution_count": 8,
   "id": "eb86be55",
   "metadata": {},
   "outputs": [],
   "source": [
    "# Declare features and target\n",
    "features = df.drop(['is_ultra'], axis=1)\n",
    "target = df['is_ultra']\n",
    "\n",
    "\n",
    "# Split of a 20% test set\n",
    "features_train, features_test, target_train, target_test = train_test_split(\n",
    "    features, target, test_size=0.2, random_state=12345\n",
    ")\n",
    "\n",
    "# Split features_train and target_train into training (60%) and validation (20%)\n",
    "features_train, features_valid, target_train, target_valid = train_test_split(\n",
    "    features_train, target_train, test_size=0.25, random_state=12345\n",
    ")"
   ]
  },
  {
   "cell_type": "markdown",
   "id": "71c1ff63",
   "metadata": {},
   "source": [
    "### Decision Tree"
   ]
  },
  {
   "cell_type": "code",
   "execution_count": 9,
   "id": "cbace234",
   "metadata": {},
   "outputs": [
    {
     "name": "stdout",
     "output_type": "stream",
     "text": [
      "Decision Tree Accuracy: 0.7589424572317263\n",
      "Decision Tree Test Accuracy: 0.7884914463452566\n",
      "Decision Tree Validation Errors: 231\n"
     ]
    }
   ],
   "source": [
    "tree_model = DecisionTreeClassifier(random_state=12345, max_depth=5)\n",
    "tree_model.fit(features_train, target_train)\n",
    "\n",
    "# Validation set predictions and accuracy\n",
    "tree_predictions = tree_model.predict(features_valid)\n",
    "print(\"Decision Tree Accuracy:\", accuracy_score(target_valid, tree_predictions))\n",
    "\n",
    "# Test set predictions and accuracy\n",
    "tree_test_predictions = tree_model.predict(features_test)\n",
    "print(\"Decision Tree Test Accuracy:\", accuracy_score(target_test, tree_test_predictions))\n",
    "\n",
    "# Error counting function\n",
    "def error_count(answers, predictions):\n",
    "    return sum(answers != predictions)\n",
    "\n",
    "print(\"Decision Tree Validation Errors:\", error_count(target_test, tree_predictions))\n",
    "\n",
    "\n",
    "\n"
   ]
  },
  {
   "cell_type": "markdown",
   "id": "6d402c67",
   "metadata": {},
   "source": [
    "### Random Forest"
   ]
  },
  {
   "cell_type": "code",
   "execution_count": 10,
   "id": "d1c5e52a",
   "metadata": {},
   "outputs": [
    {
     "name": "stdout",
     "output_type": "stream",
     "text": [
      "Random Forest Accuracy: 0.7962674961119751\n"
     ]
    }
   ],
   "source": [
    "forest_model = RandomForestClassifier(random_state=12345, n_estimators=100, max_depth=10)\n",
    "forest_model.fit(features_train, target_train)\n",
    "forest_prediction = forest_model.predict(features_valid)\n",
    "print(\"Random Forest Accuracy:\", accuracy_score(target_valid, forest_prediction))"
   ]
  },
  {
   "cell_type": "markdown",
   "id": "28fc8562",
   "metadata": {},
   "source": [
    "### Logistic Regression"
   ]
  },
  {
   "cell_type": "code",
   "execution_count": 11,
   "id": "98573f36",
   "metadata": {},
   "outputs": [
    {
     "ename": "NameError",
     "evalue": "name 'log_preds' is not defined",
     "output_type": "error",
     "traceback": [
      "\u001b[0;31m---------------------------------------------------------------------------\u001b[0m",
      "\u001b[0;31mNameError\u001b[0m                                 Traceback (most recent call last)",
      "Cell \u001b[0;32mIn[11], line 4\u001b[0m\n\u001b[1;32m      2\u001b[0m regression_model\u001b[38;5;241m.\u001b[39mfit(features_train, target_train)\n\u001b[1;32m      3\u001b[0m regression_prediction \u001b[38;5;241m=\u001b[39m regression_model\u001b[38;5;241m.\u001b[39mpredict(features_valid)\n\u001b[0;32m----> 4\u001b[0m \u001b[38;5;28mprint\u001b[39m(\u001b[38;5;124m\"\u001b[39m\u001b[38;5;124mLogistic Regression Accuracy:\u001b[39m\u001b[38;5;124m\"\u001b[39m, accuracy_score(target_valid, log_preds))\n",
      "\u001b[0;31mNameError\u001b[0m: name 'log_preds' is not defined"
     ]
    }
   ],
   "source": [
    "regression_model = LogisticRegression(random_state=12345, max_iter=1000)\n",
    "regression_model.fit(features_train, target_train)\n",
    "regression_prediction = regression_model.predict(features_valid)\n",
    "print(\"Logistic Regression Accuracy:\", accuracy_score(target_valid, log_preds))"
   ]
  }
 ],
 "metadata": {
  "kernelspec": {
   "display_name": "base",
   "language": "python",
   "name": "python3"
  },
  "language_info": {
   "codemirror_mode": {
    "name": "ipython",
    "version": 3
   },
   "file_extension": ".py",
   "mimetype": "text/x-python",
   "name": "python",
   "nbconvert_exporter": "python",
   "pygments_lexer": "ipython3",
   "version": "3.12.2"
  }
 },
 "nbformat": 4,
 "nbformat_minor": 5
}
